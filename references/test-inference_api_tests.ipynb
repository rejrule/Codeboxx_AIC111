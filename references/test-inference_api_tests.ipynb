{
 "cells": [
  {
   "cell_type": "markdown",
   "id": "b573dfa1",
   "metadata": {},
   "source": [
    "\n",
    "# ✅ Tests API — *AIC111* (projet **test-inference**)\n",
    "\n",
    "Ce notebook sert de **pense-bête** pour **copier/coller** les commandes de test de ton API, **dans le cloud** (API Gateway) et **en local** (SAM + Docker).  \n",
    "> ⚠️ Les cellules ci‑dessous sont surtout du **texte et des commandes Bash** à exécuter dans **Git Bash** (ou un terminal). Le notebook n’est pas destiné à être exécuté tel quel dans Jupyter.\n",
    "\n",
    "---\n"
   ]
  },
  {
   "cell_type": "markdown",
   "id": "8147ef0e",
   "metadata": {},
   "source": [
    "\n",
    "## 📁 Emplacement du projet SAM\n",
    "\n",
    "Assure‑toi d’être dans le dossier du projet **SAM** avant d’exécuter les commandes :\n",
    "\n",
    "```bash\n",
    "cd \"C:/Users/jp202/Documents/Coding Github/Codeboxx/Module11_AIC111/Codeboxx_AIC111/test-inference\"\n",
    "```\n"
   ]
  },
  {
   "cell_type": "markdown",
   "id": "42d65889",
   "metadata": {},
   "source": [
    "\n",
    "## ☁️ Tests **API déployée** (Cloud – API Gateway)\n",
    "\n",
    "### A) Test rapide (URL actuelle)\n",
    "```bash\n",
    "# 1) URL actuelle de l’API (Prod)\n",
    "API_URL=\"https://seyq4lqbog.execute-api.us-east-1.amazonaws.com/Prod/classify_digit/\"\n",
    "\n",
    "# 2) Appel HTTP (attendu: 200 + {\"prediction\": 7.0})\n",
    "curl -i -X POST \"$API_URL\"   -H 'Content-Type: application/json'   -d '{\"x\": 2}'\n",
    "\n",
    "# Tests supplémentaires\n",
    "curl -s -X POST \"$API_URL\" -H 'Content-Type: application/json' -d '{\"x\": 0}'   # -> {\"prediction\": 1.0}\n",
    "curl -s -X POST \"$API_URL\" -H 'Content-Type: application/json' -d '{\"x\": 10}'  # -> {\"prediction\": 31.0}\n",
    "```\n"
   ]
  },
  {
   "cell_type": "markdown",
   "id": "58bf71e7",
   "metadata": {},
   "source": [
    "\n",
    "### B) (Optionnel) Récupérer l’URL via CloudFormation puis tester\n",
    "> Pratique si l’URL change après un nouveau déploiement.\n",
    "```bash\n",
    "# Utiliser le profil AWS configuré\n",
    "export AWS_PROFILE=sam-deployer\n",
    "\n",
    "# Récupérer l’URL de sortie du stack\n",
    "API_URL=$(aws cloudformation describe-stacks --stack-name test-inference   --query \"Stacks[0].Outputs[?OutputKey=='InferenceApi'].OutputValue\" --output text)\n",
    "echo \"$API_URL\"\n",
    "\n",
    "# Tester\n",
    "curl -i -X POST \"$API_URL\"   -H 'Content-Type: application/json'   -d '{\"x\": 2}'\n",
    "```\n"
   ]
  },
  {
   "cell_type": "markdown",
   "id": "82cd3735",
   "metadata": {},
   "source": [
    "\n",
    "### C) (Optionnel) Voir les logs **Lambda** en direct\n",
    "```bash\n",
    "sam logs -n InferenceFunction --stack-name test-inference --tail\n",
    "```\n"
   ]
  },
  {
   "cell_type": "markdown",
   "id": "d4b5f90b",
   "metadata": {},
   "source": [
    "\n",
    "---\n",
    "\n",
    "## 🐳 Tests **en local** (SAM + Docker)\n",
    "\n",
    "> Nécessite **Docker Desktop** démarré.\n",
    "\n",
    "```bash\n",
    "# Se placer dans le projet\n",
    "cd \"C:/Users/jp202/Documents/Coding Github/Codeboxx/Module11_AIC111/Codeboxx_AIC111/test-inference\"\n",
    "\n",
    "# Rebuild de l’image Lambda (CPU-only)\n",
    "sam build --use-container\n",
    "\n",
    "# Lancer l’API locale (laisse cette fenêtre ouverte)\n",
    "sam local start-api\n",
    "```\n",
    "Dans **une autre** fenêtre Git Bash :\n",
    "```bash\n",
    "# Appel local (attendu: {\"prediction\": 7.0})\n",
    "curl -i -X POST http://127.0.0.1:3000/classify_digit   -H 'Content-Type: application/json'   -d '{\"x\": 2}'\n",
    "```\n"
   ]
  },
  {
   "cell_type": "markdown",
   "id": "12a04a8d",
   "metadata": {},
   "source": [
    "\n",
    "### (Optionnel) Invocation directe via un *event* JSON\n",
    "```bash\n",
    "# Créer un event compatible API Gateway (v1)\n",
    "cat > events/ping.json <<'JSON'\n",
    "{\n",
    "  \"resource\": \"/classify_digit\",\n",
    "  \"path\": \"/classify_digit\",\n",
    "  \"httpMethod\": \"POST\",\n",
    "  \"headers\": { \"Content-Type\": \"application/json\" },\n",
    "  \"isBase64Encoded\": false,\n",
    "  \"body\": \"{\"x\": 2}\"\n",
    "}\n",
    "JSON\n",
    "\n",
    "# Invoquer la Lambda localement\n",
    "sam local invoke InferenceFunction -e events/ping.json\n",
    "# ...la sortie doit contenir: \"body\": \"{\"prediction\": 7.0}\"\n",
    "```\n"
   ]
  },
  {
   "cell_type": "markdown",
   "id": "d64d59b3",
   "metadata": {},
   "source": [
    "\n",
    "---\n",
    "\n",
    "## ℹ️ Détails utiles\n",
    "\n",
    "- **Stack CloudFormation** : `test-inference`  \n",
    "- **Fonction Lambda** : `InferenceFunction`  \n",
    "- **Profil AWS** : `sam-deployer` (déjà configuré sur ta machine)  \n",
    "- **Endpoint (Prod)** : `https://seyq4lqbog.execute-api.us-east-1.amazonaws.com/Prod/classify_digit/`  \n",
    "- **Payload attendu** : `{\"x\": <nombre>}` → Réponse : `{\"prediction\": 3*x + 1}`  \n",
    "- **Chemin projet** : `.../Codeboxx_AIC111/test-inference`  \n",
    "- **Fichiers clés** : `template.yaml`, `app/app.py`, `app/requirements.txt`, `app/Dockerfile`  \n"
   ]
  }
 ],
 "metadata": {},
 "nbformat": 4,
 "nbformat_minor": 5
}
